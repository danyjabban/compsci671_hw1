{
 "cells": [
  {
   "cell_type": "markdown",
   "metadata": {},
   "source": [
    "# 3 classifiers and metrics {-}"
   ]
  },
  {
   "cell_type": "code",
   "execution_count": 334,
   "metadata": {},
   "outputs": [],
   "source": [
    "import pandas as pd\n",
    "import numpy as np\n",
    "import math\n",
    "from gosdt import GOSDT\n",
    "import matplotlib.pyplot as plt"
   ]
  },
  {
   "cell_type": "markdown",
   "metadata": {},
   "source": [
    "### 3.1) {-}"
   ]
  },
  {
   "cell_type": "code",
   "execution_count": 335,
   "metadata": {},
   "outputs": [
    {
     "name": "stdout",
     "output_type": "stream",
     "text": [
      "[[20  1  0 20  0]\n",
      " [18  1  1 33  0]\n",
      " [11  0  1 21  1]\n",
      " [31  0  0 18  1]\n",
      " [19  1  1  7  1]\n",
      " [21  1  0 10  0]\n",
      " [44  1  0 23  1]\n",
      " [15  1  1 16  0]\n",
      " [16  0  1 15  1]\n",
      " [17  1  0  6  0]]\n"
     ]
    }
   ],
   "source": [
    "dict3 = {'Age':[20,18,11,31,19,21,44,15,16,17], \n",
    "    'LikeRowing':[1,1,0,0,1,1,1,1,0,1], \n",
    "    'Experience':[0,1,1,0,1,0,0,1,1,0], \n",
    "    'Income':[20,33,21,18,7,10,23,16,15,6], \n",
    "    'Y':[0,0,1,1,1,0,1,0,1,0]}\n",
    "df = pd.DataFrame(dict3)\n",
    "data_matrix = df.to_numpy()\n",
    "print(data_matrix) \n",
    "# create data table"
   ]
  },
  {
   "cell_type": "code",
   "execution_count": 336,
   "metadata": {},
   "outputs": [],
   "source": [
    "# computation functions\n",
    "def boundry_confusion_matrix(ys_sort, i):\n",
    "    # arguments are sorted matrix of y's and function outputs, and index of threshold\n",
    "    tp = np.count_nonzero(ys_sort[:i, 1] == 1) # true positive\n",
    "    fp = np.count_nonzero(ys_sort[:i, 1] == 0) # false positive\n",
    "    fn = np.count_nonzero(ys_sort[i:, 1] == 1) # false negative\n",
    "    tn = np.count_nonzero(ys_sort[i:, 1] == 0) # true negative\n",
    "    conf_mat = np.array([[tp, fn], [fp, tn]]).T # confusion matrix\n",
    "    return conf_mat\n",
    "\n",
    "def misclassification_error(conf_mat, n):\n",
    "    # arguments are confusion matrix and number of observations\n",
    "    mc_error = (conf_mat[1,0] + conf_mat[0,1])/n\n",
    "    return mc_error\n",
    "\n",
    "def metrics(conf_mat):\n",
    "    # arguemnts are confusion matrix\n",
    "    if (conf_mat[0, 0] + conf_mat[0, 1]) == 0:\n",
    "        precision = 0\n",
    "    else:\n",
    "        precision = conf_mat[0,0]/(conf_mat[0, 0] + conf_mat[0, 1]) # calc precision\n",
    "    if (conf_mat[0, 0] + conf_mat[1, 0]) == 0:\n",
    "        recall = 0\n",
    "    else:\n",
    "        recall = conf_mat[0,0]/(conf_mat[0, 0] + conf_mat[1, 0]) # calc recall\n",
    "    if (precision + recall) == 0:\n",
    "        f1 = 0\n",
    "    else:\n",
    "        f1 = 2 * (precision * recall)/(precision + recall) # calc f1 score\n",
    "    return  precision, recall, f1 \n"
   ]
  },
  {
   "cell_type": "code",
   "execution_count": 337,
   "metadata": {},
   "outputs": [],
   "source": [
    "# threshold evaluation function\n",
    "def evaluate_threshold(mat, func):\n",
    "    output_arr = np.array([])\n",
    "    for obs in mat: # iterate through each observation and get output from the function\n",
    "        output = [func(obs[:-1])] \n",
    "        output_arr = np.append(output_arr, output)\n",
    "    y = mat[:, -1]\n",
    "    ys = np.vstack([output_arr, y]).T # combine output array and y array\n",
    "    ys_sort = ys[ys[:, 0].argsort()] # sort by output values\n",
    "    ys_sort = np.flip(ys_sort, axis=0)\n",
    "    n = len(ys_sort) # num observations\n",
    "    threshold = np.array([]) # initialize threshold array\n",
    "    min_mc_error = 1 # initialize minimum classification error\n",
    "    for i in range(len(ys_sort) + 1): # iterrate through all thresholds\n",
    "        conf_mat = boundry_confusion_matrix(ys_sort, i)\n",
    "        new_mc_error = misclassification_error(conf_mat, n) \n",
    "        if new_mc_error < min_mc_error: # store error and threshold for new minimum misclassification error\n",
    "            threshold = [ys_sort[i-1: i+1, 0]] # threshold range exclusive\n",
    "            min_mc_error = new_mc_error\n",
    "            min_error_metrics = [metrics(conf_mat)]\n",
    "        elif new_mc_error == min_mc_error: # store error and threshold for new minimum misclassification error\n",
    "            threshold.append(ys_sort[i-1: i+1, 0]) # threshold range exclusive\n",
    "            min_error_metrics.append(metrics(conf_mat))\n",
    "    return min_mc_error, threshold, min_error_metrics"
   ]
  },
  {
   "cell_type": "code",
   "execution_count": 338,
   "metadata": {},
   "outputs": [
    {
     "name": "stdout",
     "output_type": "stream",
     "text": [
      "g(x) for each observation\n",
      "g([20  1  0 20]) = -1.54\n",
      "g([18  1  1 33]) = 0.5640000000000001\n",
      "g([11  0  1 21]) = 3.1180000000000003\n",
      "g([31  0  0 18]) = 1.994\n",
      "g([19  1  1  7]) = 0.40600000000000025\n",
      "g([21  1  0 10]) = -1.5699999999999998\n",
      "g([44  1  0 23]) = -0.3159999999999999\n",
      "g([15  1  1 16]) = 0.2780000000000001\n",
      "g([16  0  1 15]) = 3.3200000000000003\n",
      "g([17  1  0  6]) = -1.8019999999999998\n"
     ]
    }
   ],
   "source": [
    "def g(x):\n",
    "    # create g(x) linear classifier\n",
    "    theta = np.array([0.05, -3, 2.1, 0.008])\n",
    "    theta_naught = 0.3\n",
    "    y_hat_i = np.dot(x, theta) + theta_naught\n",
    "    return y_hat_i\n",
    "\n",
    "print('g(x) for each observation')\n",
    "for obs in data_matrix:\n",
    "    output = [g(obs[:-1])]\n",
    "    print(f'g({obs[:-1]}) =',output[0])\n",
    "# g(x) for each point"
   ]
  },
  {
   "cell_type": "code",
   "execution_count": 339,
   "metadata": {},
   "outputs": [
    {
     "name": "stdout",
     "output_type": "stream",
     "text": [
      "minimum misclassification error: 0.2\n",
      "threshold range: [array([1.994, 0.564]), array([0.406, 0.278]), array([-0.316, -1.54 ])]\n",
      "precision 1.0 recall 0.6 F1 0.7499999999999999\n",
      "precision 0.8 recall 0.8 F1 0.8000000000000002\n",
      "precision 0.7142857142857143 recall 1.0 F1 0.8333333333333333\n"
     ]
    }
   ],
   "source": [
    "minimum_misclassification_thresholds = evaluate_threshold(data_matrix, g)\n",
    "print('minimum misclassification error:', minimum_misclassification_thresholds[0])\n",
    "print('threshold range:', minimum_misclassification_thresholds[1])\n",
    "for m in minimum_misclassification_thresholds[2]:\n",
    "    print('precision',m[0],'recall',m[1],'F1',m[2])\n"
   ]
  },
  {
   "cell_type": "markdown",
   "metadata": {},
   "source": [
    "### 3.2) {-}"
   ]
  },
  {
   "cell_type": "code",
   "execution_count": 340,
   "metadata": {},
   "outputs": [
    {
     "name": "stdout",
     "output_type": "stream",
     "text": [
      "f(x) for each observation\n",
      "f([20  1  0 20]) = -0.9121203692077172\n",
      "f([18  1  1 33]) = 0.510939234698401\n",
      "f([11  0  1 21]) = 0.9960923088427541\n",
      "f([31  0  0 18]) = 0.9636012140715537\n",
      "f([19  1  1  7]) = 0.3850710566999133\n",
      "f([21  1  0 10]) = -0.9170257613966083\n",
      "f([44  1  0 23]) = -0.3058856354111792\n",
      "f([15  1  1 16]) = 0.27105302652862084\n",
      "f([16  0  1 15]) = 0.9973893576929466\n",
      "f([17  1  0  6]) = -0.947012737861736\n"
     ]
    }
   ],
   "source": [
    "def f(x):\n",
    "    # tanh classifier\n",
    "    z = g(x)\n",
    "    e = math.e\n",
    "    output = (e**z - e**(-z))/(e**z + e**(-z))\n",
    "    return output\n",
    "\n",
    "print('f(x) for each observation')\n",
    "for obs in data_matrix:\n",
    "    output = [f(obs[:-1])]\n",
    "    print(f'f({obs[:-1]}) =',output[0])\n",
    "# f(x) for each point\n",
    "\n"
   ]
  },
  {
   "cell_type": "code",
   "execution_count": 341,
   "metadata": {},
   "outputs": [
    {
     "name": "stdout",
     "output_type": "stream",
     "text": [
      "minimum misclassification error: 0.2\n",
      "threshold range: [array([0.96360121, 0.51093923]), array([0.38507106, 0.27105303]), array([-0.30588564, -0.91212037])]\n",
      "precision 1.0 recall 0.6 F1 0.7499999999999999\n",
      "precision 0.8 recall 0.8 F1 0.8000000000000002\n",
      "precision 0.7142857142857143 recall 1.0 F1 0.8333333333333333\n"
     ]
    }
   ],
   "source": [
    "minimum_misclassification_thresholds = evaluate_threshold(data_matrix, f)\n",
    "print('minimum misclassification error:', minimum_misclassification_thresholds[0])\n",
    "print('threshold range:', minimum_misclassification_thresholds[1])\n",
    "for m in minimum_misclassification_thresholds[2]:\n",
    "    print('precision',m[0],'recall',m[1],'F1',m[2])\n"
   ]
  },
  {
   "cell_type": "markdown",
   "metadata": {},
   "source": [
    "### 3.3) {-}"
   ]
  },
  {
   "cell_type": "code",
   "execution_count": 342,
   "metadata": {},
   "outputs": [
    {
     "data": {
      "image/png": "[encoded data removed]",
      "text/plain": [
       "<Figure size 640x480 with 1 Axes>"
      ]
     },
     "metadata": {},
     "output_type": "display_data"
    }
   ],
   "source": [
    "def roc_points(conf_mat):\n",
    "    tpr = conf_mat[0,0]/(conf_mat[0, 0] + conf_mat[1, 0])\n",
    "    fpr = conf_mat[0,1]/(conf_mat[0, 1] + conf_mat[1, 1])\n",
    "    return np.array([[fpr, tpr]])\n",
    "\n",
    "def get_roc_points(mat, func):\n",
    "    output_arr = np.array([])\n",
    "    for obs in mat:\n",
    "        output = [func(obs[:-1])]\n",
    "        output_arr = np.append(output_arr, output)\n",
    "    y = mat[:, -1]\n",
    "    ys = np.vstack([output_arr, y]).T # combine output array and y array\n",
    "    ys_sort = ys[ys[:, 0].argsort()] # sort by output values\n",
    "    ys_sort = np.flip(ys_sort, axis=0)\n",
    "    n = len(ys_sort) # num observations\n",
    "    roc_mat = np.empty((0,2), int)\n",
    "    for i in range(len(ys_sort) + 1): # iterrate through all thresholds\n",
    "        conf_mat = boundry_confusion_matrix(ys_sort, i)\n",
    "        points = roc_points(conf_mat)\n",
    "        roc_mat = np.append(roc_mat, points, axis=0)\n",
    "    roc_df = pd.DataFrame(roc_mat, columns = ['fpr', 'tpr'])\n",
    "    plt.plot('fpr', 'tpr', data=roc_df, linestyle='-') \n",
    "    plt.plot([0,.2,.4], [.6,.8, 1],'o') \n",
    "    plt.legend(['roc curve', 'minimum misclassification points'])\n",
    "    plt.xlabel('False Positive Rate')\n",
    "    plt.ylabel('True Positive Rate')\n",
    "    plt.show()\n",
    "\n",
    "get_roc_points(data_matrix, f)\n",
    "\n"
   ]
  },
  {
   "cell_type": "markdown",
   "metadata": {},
   "source": [
    "# 5 Classification with KNN and Decision Trees {-}"
   ]
  },
  {
   "cell_type": "markdown",
   "metadata": {},
   "source": [
    "### 5.2) {-}"
   ]
  },
  {
   "cell_type": "code",
   "execution_count": 353,
   "metadata": {},
   "outputs": [],
   "source": [
    "# import Decision Tree Classifier\n",
    "from sklearn.tree import DecisionTreeClassifier as dtc\n"
   ]
  },
  {
   "cell_type": "code",
   "execution_count": 354,
   "metadata": {},
   "outputs": [],
   "source": [
    "# functions to perform hyperparameter tuning cross validation\n",
    "\n",
    "def k_fold_cv(data, params, clf, target_col_name, gosdt=False):\n",
    "    # take whole training data and shuffle rows\n",
    "    data = data.sample(frac=1)\n",
    "    # split into 10 folds\n",
    "    num_rows = data.shape[0]\n",
    "    fold_size = math.ceil(num_rows/10)\n",
    "    # loop through 10 folds using 9 as training set\n",
    "    f1_df = pd.DataFrame()\n",
    "    for i in range(0, num_rows, fold_size):\n",
    "        val, train = split_train_val(data, i, fold_size, num_rows)\n",
    "        val_X, val_y = preprocess_data(val, target_col_name)\n",
    "        train_X, train_y = preprocess_data(train, target_col_name)\n",
    "\n",
    "       \n",
    "        # iterrate through all combinations of hyperperameters\n",
    "        f1_dict = {} # dictionary of f1 scores for each hyperparam pair\n",
    "        for param_j in params[list(params.keys())[0]]:\n",
    "            for param_k in params[list(params.keys())[1]]:\n",
    "                dp = {list(params.keys())[0]: param_j, list(params.keys())[1]: param_k}\n",
    "                if gosdt:\n",
    "                    clf_model = clf(dp)\n",
    "                else:\n",
    "                    clf_model = clf(**dp) # create instance of the model with given hyperparameters\n",
    "                clf_model.fit(train_X, train_y) # fit with training data\n",
    "                y_pred = clf_model.predict(val_X) # get predicted y vals\n",
    "                val_y['y_pred'] = y_pred # create dataframe with true y's and y_hats\n",
    "                conf_mat = confusion_matrix(val_y, target_col_name)\n",
    "                f1_score = metrics(conf_mat)[0]\n",
    "                param_comb = 'param_j:' + str(param_j) + ',param_k:' + str(param_k)\n",
    "                f1_dict[param_comb] = [f1_score]\n",
    "        f1_df = pd.concat([f1_df, pd.DataFrame(f1_dict)]) # add new row of f1 scores\n",
    "    f1_df.reset_index(inplace=True, drop=True)\n",
    "    return f1_df\n",
    "\n",
    "def split_train_val(data, i, fold_size, num_rows):\n",
    "    # split training data into train and validation groups\n",
    "    eval = data.iloc[i:i+fold_size] # evaluation fold\n",
    "    train1 = data.iloc[0:i] # train set 1\n",
    "    train2 = data.iloc[i+fold_size: num_rows] # train set 2\n",
    "    train = pd.concat([train1, train2]) # combine train sets\n",
    "    return eval, train\n",
    "\n",
    "\n",
    "def preprocess_data(data, target_name):\n",
    "    feature_names = data.columns.to_list() # get feature cols\n",
    "    feature_names.remove(target_name) \n",
    "\n",
    "    data_X = data[feature_names] # feature df\n",
    "    data_y = data[[target_name]] # target df\n",
    "    data_X = pd.get_dummies(data_X, drop_first=True) # one hot encoding\n",
    "    data_X = data_X.reset_index(drop=True)\n",
    "    data_y = data_y.reset_index(drop=True)\n",
    "    return data_X, data_y\n",
    "\n",
    "\n",
    "def confusion_matrix(df, target_col_name):\n",
    "    '''\n",
    "    create a confusion matrix from the given df of y's and y_hat's\n",
    "    '''\n",
    "    tp = df.loc[(df[target_col_name] == 1) & (df['y_pred'] == 1)].shape[0]\n",
    "    fn = df.loc[(df[target_col_name] == 1) & (df['y_pred'] == 0)].shape[0]\n",
    "    fp = df.loc[(df[target_col_name] == 0) & (df['y_pred'] == 1)].shape[0]\n",
    "    tn = df.loc[(df[target_col_name] == 0) & (df['y_pred'] == 0)].shape[0]\n",
    "    conf_mat = np.array([[tp, fn], [fp, tn]]) # confusion matrix\n",
    "    return conf_mat"
   ]
  },
  {
   "cell_type": "markdown",
   "metadata": {},
   "source": [
    "SKlearn decision tree classifier"
   ]
  },
  {
   "cell_type": "code",
   "execution_count": 355,
   "metadata": {},
   "outputs": [],
   "source": [
    "train_file = \"carseats_train.csv\" # training data file\n",
    "df = pd.read_csv(train_file)\n",
    "target_col_name = 'Sales'\n",
    "params_dict = {'criterion':[\"gini\", \"entropy\"], 'max_depth':[2,3]}\n",
    "cv_scores = k_fold_cv(df, params_dict, dtc, target_col_name)\n"
   ]
  },
  {
   "cell_type": "code",
   "execution_count": 356,
   "metadata": {},
   "outputs": [
    {
     "name": "stdout",
     "output_type": "stream",
     "text": [
      "Average F1 scores for each of the hyperparameter pairs\n",
      "Note: param_j is criterion and param_k is max_depth\n",
      "param_j:gini,param_k:2       0.458497\n",
      "param_j:gini,param_k:3       0.498864\n",
      "param_j:entropy,param_k:2    0.425164\n",
      "param_j:entropy,param_k:3    0.511288\n",
      "dtype: float64\n"
     ]
    }
   ],
   "source": [
    "print('Average F1 scores for each of the hyperparameter pairs')\n",
    "print('Note: param_j is criterion and param_k is max_depth')\n",
    "cv_mean = cv_scores.mean()\n",
    "print(cv_mean)\n",
    "# param_j is criterion and param_k is max_depth"
   ]
  },
  {
   "cell_type": "markdown",
   "metadata": {},
   "source": [
    "For sklearn decision trees the best performing hyperparameter combination was criteria:entropy and max_depth:3"
   ]
  },
  {
   "cell_type": "markdown",
   "metadata": {},
   "source": [
    "GOSDT Classifier"
   ]
  },
  {
   "cell_type": "code",
   "execution_count": 357,
   "metadata": {},
   "outputs": [],
   "source": [
    "%%capture\n",
    "train_file = \"carseats_train.csv\" # training data file\n",
    "df = pd.read_csv(train_file)\n",
    "target_col_name = 'Sales'\n",
    "config = {\n",
    "        \"regularization\": [.05,0.001],\n",
    "        \"depth_budget\": [2, 3]\n",
    "    }\n",
    "cv_scores = k_fold_cv(df, config, GOSDT, target_col_name, gosdt = True)\n",
    "\n"
   ]
  },
  {
   "cell_type": "code",
   "execution_count": 358,
   "metadata": {},
   "outputs": [
    {
     "name": "stdout",
     "output_type": "stream",
     "text": [
      "Average F1 scores for each of the hyperparameter pairs\n",
      "Note: param_j is regularization and param_k is depth_budget\n",
      "param_j:0.05,param_k:2     0.390638\n",
      "param_j:0.05,param_k:3     0.390638\n",
      "param_j:0.001,param_k:2    0.390638\n",
      "param_j:0.001,param_k:3    0.556850\n",
      "dtype: float64\n"
     ]
    }
   ],
   "source": [
    "print('Average F1 scores for each of the hyperparameter pairs')\n",
    "print('Note: param_j is regularization and param_k is depth_budget')\n",
    "cv_mean = cv_scores.mean()\n",
    "print(cv_mean)\n",
    "# param_j is regularization and param_k is depth_budget"
   ]
  },
  {
   "cell_type": "markdown",
   "metadata": {},
   "source": [
    "For GOSDT the best performing hyperparameter combination was regularization:0.001 and depth_budget:3"
   ]
  },
  {
   "cell_type": "markdown",
   "metadata": {},
   "source": [
    "### 5.3) {-}"
   ]
  },
  {
   "cell_type": "code",
   "execution_count": 359,
   "metadata": {},
   "outputs": [],
   "source": [
    "### knn class\n",
    "\n",
    "class KNN:\n",
    "    def __init__(self, dist_metric, k):\n",
    "        if dist_metric == \"euclidean\":\n",
    "            self.dist_metric = self.euclidean_distance\n",
    "        elif dist_metric == 'manhattan':\n",
    "            self.dist_metric = self.manhattan_distance\n",
    "        self.k = k\n",
    "        pass\n",
    "\n",
    "    def fit(self, X, y):\n",
    "        self.train_data_X = X \n",
    "        self.train_data_y = y\n",
    "\n",
    "    \n",
    "    def predict(self, test_data_X):\n",
    "        '''\n",
    "        predict the y labels for the dataframe test_data_X \n",
    "        '''\n",
    "        # list of y_hats\n",
    "        y_hat_list = []\n",
    "        # iterrate through each test row\n",
    "        for test_i, test_row in test_data_X.iterrows():\n",
    "            self.closest_points_dist = [] # list of the k smallest distances for a given test_row\n",
    "            self.closest_points_ys = [] # list of corresponding y's associated with the train row with the smallest distances\n",
    "            for train_i, train_row in self.train_data_X.iterrows():\n",
    "                # get distance\n",
    "                new_dist = self.dist_metric(test_row.values.flatten().tolist(), train_row.values.flatten().tolist())\n",
    "                # check largest dist and if new dist is less then replace it and its corresponding y\n",
    "                self.check_largest_dist(new_dist, train_i)\n",
    "            y_mean = sum(self.closest_points_ys)/len(self.closest_points_ys)\n",
    "            # determine the label for y_hat\n",
    "            if y_mean >= .5:\n",
    "                y_hat_list.append(1)\n",
    "            else:\n",
    "                y_hat_list.append(0)\n",
    "        return y_hat_list\n",
    "    \n",
    "    \n",
    "    def check_largest_dist(self, new_dist, train_index):\n",
    "        '''\n",
    "        check to see if the distance between the current training point and the test point\n",
    "        is smaller than the largest distance in the list of k smallest distances\n",
    "        '''\n",
    "        if len(self.closest_points_dist) > 0:\n",
    "            max_in_list = max(self.closest_points_dist) # get largest value in list\n",
    "        # if list doesnt have k elements already just add new distance and train_y to respective lists\n",
    "        if len(self.closest_points_dist) < self.k: \n",
    "            self.closest_points_dist.append(new_dist)\n",
    "            self.closest_points_ys.append(self.train_data_y.iloc[train_index].values[0])\n",
    "        # else check if the newest distance is less than the largest distance in the list of k elements\n",
    "        # if it is switch them out and switch out their respective y's\n",
    "        elif new_dist < max_in_list:\n",
    "            index_of_max = self.closest_points_dist.index(max_in_list)\n",
    "            self.closest_points_dist.pop(index_of_max) # drop the old largest distance from list\n",
    "            self.closest_points_dist.append(new_dist) # add the new distance to the list\n",
    "            self.closest_points_ys.pop(index_of_max) # drop the y value corresponding to the point that was just dropped\n",
    "            self.closest_points_ys.append(self.train_data_y.iloc[train_index].values[0]) # add the y of the new distance\n",
    "        \n",
    "\n",
    "    def euclidean_distance(self, test_row, train_row): \n",
    "        # train and test are lists\n",
    "        dist = 0\n",
    "        for i in range(len(train_row)):\n",
    "            dist = dist + (train_row[i] - test_row[i])**2\n",
    "        dist = (dist)**(1/2)\n",
    "        return dist\n",
    "\n",
    "\n",
    "    def manhattan_distance(self, test_row, train_row): \n",
    "        # train and test are lists\n",
    "        dist = 0\n",
    "        for i in range(len(train_row)):\n",
    "            dist = dist + abs(train_row[i] - test_row[i])\n",
    "        return dist"
   ]
  },
  {
   "cell_type": "code",
   "execution_count": 360,
   "metadata": {},
   "outputs": [],
   "source": [
    "train_file = \"carseats_train.csv\" # training data file\n",
    "df = pd.read_csv(train_file)\n",
    "target_col_name = 'Sales'\n",
    "params_dict = {'dist_metric':[\"euclidean\", \"manhattan\"], 'k':[1,3]}\n",
    "cv_scores = k_fold_cv(df, params_dict, KNN, target_col_name)"
   ]
  },
  {
   "cell_type": "code",
   "execution_count": 361,
   "metadata": {},
   "outputs": [
    {
     "name": "stdout",
     "output_type": "stream",
     "text": [
      "Average F1 scores for each of the hyperparameter pairs\n",
      "Note: param_j is distance_metric and param_k is k\n",
      "param_j:euclidean,param_k:1    0.420649\n",
      "param_j:euclidean,param_k:3    0.318225\n",
      "param_j:manhattan,param_k:1    0.464892\n",
      "param_j:manhattan,param_k:3    0.359026\n",
      "dtype: float64\n"
     ]
    }
   ],
   "source": [
    "print('Average F1 scores for each of the hyperparameter pairs')\n",
    "print('Note: param_j is distance_metric and param_k is k')\n",
    "cv_mean = cv_scores.mean()\n",
    "print(cv_mean)\n",
    "# param_j is distance metric and parak_k is k"
   ]
  },
  {
   "cell_type": "markdown",
   "metadata": {},
   "source": [
    "For KNN the best performing hyperparameter combination was dist_metric:manhattan and k:1"
   ]
  },
  {
   "cell_type": "markdown",
   "metadata": {},
   "source": [
    "### 5.4) {-}"
   ]
  },
  {
   "cell_type": "code",
   "execution_count": 363,
   "metadata": {},
   "outputs": [
    {
     "name": "stdout",
     "output_type": "stream",
     "text": [
      "gosdt reported successful execution\n",
      "training completed. 0.502/0.007/0.515 (user, system, wall), mem=243524 MB\n",
      "bounds: [0.220312..0.220312] (0.000000) loss=0.216312, iterations=1115\n",
      "gosdt_model f1 score: 0.4576271186440678\n",
      "sktree_model f1 score: 0.7288135593220338\n",
      "knn_model f1 score: 0.5254237288135594\n"
     ]
    }
   ],
   "source": [
    "''' \n",
    "Fit the three algorithms with tuned hyperparameters on the full trainng data \n",
    "Then Get the F1 score using the test data\n",
    "'''\n",
    "\n",
    "\n",
    "def test_model(model, train_X, train_y, test_X, test_y):\n",
    "    model.fit(train_X, train_y) # fit with training data\n",
    "    y_pred = model.predict(test_X) # get predicted y vals\n",
    "    test_y['y_pred'] = y_pred # create dataframe with true y's and y_hats\n",
    "    conf_mat = confusion_matrix(test_y, target_col_name)\n",
    "    f1_score = metrics(conf_mat)[0]\n",
    "    return f1_score\n",
    "\n",
    "\n",
    "train_file = \"carseats_train.csv\" # training data file\n",
    "train_df = pd.read_csv(train_file)\n",
    "test_file = \"carseats_test.csv\" # testing data file\n",
    "test_df = pd.read_csv(test_file)\n",
    "target_col_name = 'Sales'\n",
    "train_X, train_y = preprocess_data(train_df, target_col_name)\n",
    "test_X, test_y = preprocess_data(test_df, target_col_name)\n",
    "\n",
    "\n",
    "\n",
    "# configure gosdt classifier\n",
    "params = {'regularization':0.001, 'depth_budget':3}\n",
    "gosdt_model = GOSDT(params)\n",
    "f1 = test_model(gosdt_model, train_X, train_y, test_X, test_y)\n",
    "print(\"gosdt_model f1 score:\", f1)\n",
    "\n",
    "# configure sklearn decision tree classifier\n",
    "params = {'criterion':\"entropy\", 'max_depth':3}\n",
    "sktree_model = dtc(**params)\n",
    "f1 = test_model(sktree_model, train_X, train_y, test_X, test_y)\n",
    "print(\"sktree_model f1 score:\", f1)\n",
    "\n",
    "# configure knn classifier\n",
    "params = {'dist_metric':\"manhattan\", 'k':1}\n",
    "knn_model = KNN(**params)\n",
    "f1 = test_model(knn_model, train_X, train_y, test_X, test_y)\n",
    "print(\"knn_model f1 score:\", f1)\n",
    "\n",
    "\n",
    "\n",
    "\n",
    "\n",
    "\n"
   ]
  },
  {
   "cell_type": "markdown",
   "metadata": {},
   "source": [
    "based on the f1 score, the SKLearn Decision Tree Classifier CART model with parameters Criterion = entropy and max_depth = 3 performed the best"
   ]
  }
 ],
 "metadata": {
  "kernelspec": {
   "display_name": "Python 3.10.6 ('base')",
   "language": "python",
   "name": "python3"
  },
  "language_info": {
   "codemirror_mode": {
    "name": "ipython",
    "version": 3
   },
   "file_extension": ".py",
   "mimetype": "text/x-python",
   "name": "python",
   "nbconvert_exporter": "python",
   "pygments_lexer": "ipython3",
   "version": "3.10.6"
  },
  "orig_nbformat": 4,
  "vscode": {
   "interpreter": {
    "hash": "88caf069edf20051aa562fca5c59ddb764012baca65fbe1d1bef7ace59050dda"
   }
  }
 },
 "nbformat": 4,
 "nbformat_minor": 2
}
